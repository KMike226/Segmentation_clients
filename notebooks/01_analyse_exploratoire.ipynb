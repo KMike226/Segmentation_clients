{
  "cells": [
    {
      "cell_type": "markdown",
      "metadata": {},
      "source": [
        "# Analyse Exploratoire des Données (EDA)\n",
        "\n",
        "Ce notebook effectue une analyse exploratoire complète des données clients pour comprendre leur structure, identifier les patterns et préparer les données pour le clustering.\n",
        "\n",
        "## Objectifs\n",
        "- Analyser la structure des données\n",
        "- Identifier les variables importantes\n",
        "- Détecter les valeurs manquantes et outliers\n",
        "- Explorer les corrélations entre variables\n",
        "- Préparer les données pour le clustering\n"
      ]
    },
    {
      "cell_type": "code",
      "execution_count": null,
      "metadata": {},
      "outputs": [],
      "source": [
        "# Import des librairies nécessaires\n",
        "import pandas as pd\n",
        "import numpy as np\n",
        "import matplotlib.pyplot as plt\n",
        "import seaborn as sns\n",
        "import plotly.express as px\n",
        "import plotly.graph_objects as go\n",
        "from plotly.subplots import make_subplots\n",
        "import warnings\n",
        "warnings.filterwarnings('ignore')\n",
        "\n",
        "# Configuration des graphiques\n",
        "plt.style.use('seaborn-v0_8')\n",
        "sns.set_palette(\"husl\")\n",
        "plt.rcParams['figure.figsize'] = (12, 8)\n",
        "plt.rcParams['font.size'] = 12\n",
        "\n",
        "print(\"✅ Librairies importées avec succès!\")\n"
      ]
    },
    {
      "cell_type": "code",
      "execution_count": null,
      "metadata": {},
      "outputs": [],
      "source": [
        "# Chargement des données\n",
        "# TODO: Remplacer par le chemin vers vos données réelles\n",
        "# df = pd.read_csv('../data/raw/donnees_clients.csv')\n",
        "\n",
        "# Pour l'instant, créons des données de démonstration\n",
        "np.random.seed(42)\n",
        "n_customers = 1000\n",
        "\n",
        "df = pd.DataFrame({\n",
        "    'customer_id': range(1, n_customers + 1),\n",
        "    'age': np.random.normal(35, 12, n_customers).astype(int),\n",
        "    'income': np.random.normal(50000, 20000, n_customers),\n",
        "    'spending_score': np.random.randint(1, 101, n_customers),\n",
        "    'recency': np.random.randint(1, 366, n_customers),\n",
        "    'frequency': np.random.poisson(5, n_customers),\n",
        "    'monetary': np.random.exponential(100, n_customers),\n",
        "    'gender': np.random.choice(['M', 'F'], n_customers),\n",
        "    'education': np.random.choice(['High School', 'Bachelor', 'Master', 'PhD'], n_customers),\n",
        "    'marital_status': np.random.choice(['Single', 'Married', 'Divorced'], n_customers)\n",
        "})\n",
        "\n",
        "# Ajustement des valeurs pour qu'elles soient réalistes\n",
        "df['age'] = np.clip(df['age'], 18, 80)\n",
        "df['income'] = np.clip(df['income'], 20000, 150000)\n",
        "df['monetary'] = np.clip(df['monetary'], 10, 1000)\n",
        "\n",
        "print(f\"✅ Dataset créé avec {len(df)} clients et {len(df.columns)} variables\")\n",
        "print(f\"\\nDimensions du dataset: {df.shape}\")\n",
        "df.head()\n"
      ]
    }
  ],
  "metadata": {
    "language_info": {
      "name": "python"
    }
  },
  "nbformat": 4,
  "nbformat_minor": 2
}
